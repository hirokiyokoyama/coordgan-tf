{
  "nbformat": 4,
  "nbformat_minor": 0,
  "metadata": {
    "colab": {
      "name": "coordgan_test.ipynb",
      "provenance": [],
      "collapsed_sections": [],
      "authorship_tag": "ABX9TyPWjDpAoVQ7V0U8ZwaACHHN"
    },
    "kernelspec": {
      "name": "python3",
      "display_name": "Python 3"
    },
    "language_info": {
      "name": "python"
    },
    "accelerator": "GPU"
  },
  "cells": [
    {
      "cell_type": "markdown",
      "source": [
        "# Install requirements"
      ],
      "metadata": {
        "id": "054ErgPgixKB"
      }
    },
    {
      "cell_type": "code",
      "execution_count": null,
      "metadata": {
        "id": "U6tQErTIV_Nv"
      },
      "outputs": [],
      "source": [
        "!git clone https://github.com/hirokiyokoyama/coordgan-tf.git\n",
        "!pip install tensorflow-addons\n",
        "\n",
        "# for visualization\n",
        "!pip install mediapy\n",
        "\n",
        "import sys\n",
        "sys.path.append('coordgan-tf')\n",
        "\n",
        "%load_ext autoreload\n",
        "%autoreload 2"
      ]
    },
    {
      "cell_type": "markdown",
      "source": [
        "# Import packages"
      ],
      "metadata": {
        "id": "FMUFF0XKi-F-"
      }
    },
    {
      "cell_type": "code",
      "source": [
        "import tensorflow as tf\n",
        "import coordgan\n",
        "import mediapy"
      ],
      "metadata": {
        "id": "3Pe5fyWSYfX9"
      },
      "execution_count": 2,
      "outputs": []
    },
    {
      "cell_type": "markdown",
      "source": [
        "# Create components"
      ],
      "metadata": {
        "id": "pc-x--4fjLyN"
      }
    },
    {
      "cell_type": "code",
      "source": [
        "def mapping_net(channels=512, layers=8, normalize=True, lrmul=0.01):\n",
        "    def normalize(x, eps=1e-8):\n",
        "        norm = tf.reduce_mean(tf.square(x), axis=-1, keepdims=True)\n",
        "        return x * tf.math.rsqrt(norm + eps)\n",
        "    \n",
        "    net = tf.keras.Sequential()\n",
        "    if normalize:\n",
        "        net.add(tf.keras.layers.Lambda(normalize))\n",
        "    for _ in range(layers):\n",
        "        net.add(coordgan.layers.Dense(\n",
        "            channels, lrmul=lrmul, activation='leaky_relu'))\n",
        "    return net\n",
        "\n",
        "texture_net = mapping_net()\n",
        "structure_net = mapping_net()"
      ],
      "metadata": {
        "id": "SPqrFC4GX8sr"
      },
      "execution_count": 3,
      "outputs": []
    },
    {
      "cell_type": "code",
      "source": [
        "warp_net = coordgan.models.CoordinateWarpingNetwork(\n",
        "    512,\n",
        "    activation = 'relu',\n",
        "    image_size = (64,64),\n",
        "    chamfer_loss_weight = 100.\n",
        ")"
      ],
      "metadata": {
        "id": "-iWifx9dZuAr"
      },
      "execution_count": 4,
      "outputs": []
    },
    {
      "cell_type": "code",
      "source": [
        "mod_generator = coordgan.models.ModulatedGenerator(\n",
        "    256, 4,\n",
        "    image_size = (64,64),\n",
        "    positional_encoding = coordgan.layers.PositionalEncoding(512),\n",
        "    kernel_size = 1\n",
        ")"
      ],
      "metadata": {
        "id": "jbFLJWqiZ2xO"
      },
      "execution_count": 5,
      "outputs": []
    },
    {
      "cell_type": "code",
      "source": [
        "discriminator = coordgan.models.ImageDiscriminator(\n",
        "    tf.keras.Sequential([\n",
        "        coordgan.layers.Conv2D(256, 1, 1, 'SAME', activation='leaky_relu'),\n",
        "        coordgan.layers.ResidualBlock(256, downsample=True),\n",
        "        coordgan.layers.ResidualBlock(256, downsample=True),\n",
        "        coordgan.layers.ResidualBlock(256, 512, downsample=True),\n",
        "        coordgan.layers.ResidualBlock(512, 1024, downsample=True),\n",
        "        coordgan.layers.MinibatchStddev(group_size=4),\n",
        "        coordgan.layers.Conv2D(1024, 3, 1, 'SAME', activation='leaky_relu'),\n",
        "        coordgan.layers.Conv2D(1024, 4, 4, 'SAME', activation='leaky_relu'),\n",
        "        coordgan.layers.Conv2D(1, 1, 1, 'SAME')\n",
        "    ])\n",
        ")"
      ],
      "metadata": {
        "id": "VsFJybbZbuGo"
      },
      "execution_count": 6,
      "outputs": []
    },
    {
      "cell_type": "code",
      "source": [
        "patch_discriminator = coordgan.models.PatchDiscriminator(\n",
        "    tf.keras.Sequential([\n",
        "        coordgan.layers.Conv2D(256, 1, 1, 'SAME', activation='leaky_relu'),\n",
        "        coordgan.layers.ResidualBlock(256, downsample=True),\n",
        "        coordgan.layers.ResidualBlock(256, downsample=True),\n",
        "        coordgan.layers.ResidualBlock(256, 512, downsample=True),\n",
        "        coordgan.layers.Conv2D(512, 2, 2, 'SAME', activation='leaky_relu'),\n",
        "    ]),\n",
        "    tf.keras.Sequential([\n",
        "        coordgan.layers.Dense(512, activation='leaky_relu'),\n",
        "        coordgan.layers.Dense(512, activation='leaky_relu'),\n",
        "        coordgan.layers.Dense(1)\n",
        "    ]),\n",
        "    min_crop_size = [8,8],\n",
        "    max_crop_size = [16,16],\n",
        "    patch_size = [16,16]\n",
        ")"
      ],
      "metadata": {
        "id": "59YYmP7Nbs44"
      },
      "execution_count": 7,
      "outputs": []
    },
    {
      "cell_type": "markdown",
      "source": [
        "# Contruct CoordGAN model"
      ],
      "metadata": {
        "id": "bQBejKPyjbFm"
      }
    },
    {
      "cell_type": "code",
      "source": [
        "gan = coordgan.CoordGAN(\n",
        "    texture_net,\n",
        "    structure_net,\n",
        "    warp_net,\n",
        "    mod_generator,\n",
        "    discriminator,\n",
        "    patch_discriminator,\n",
        "    r1_regularization_weight = 10.,\n",
        "    patch_r1_regularization_weight = 1.,\n",
        "    texture_code_dim = 512,\n",
        "    structure_code_dim = 512,\n",
        "    gan_loss_weight = 2.0,\n",
        "    texture_swap_loss_weight = 5.,\n",
        "    structure_swap_loss_weight = 1.,\n",
        "    warp_loss_weight = 5.,\n",
        "    warp_loss_temp = 0.015**2. * 0.5)\n",
        "\n",
        "gan.compile(\n",
        "    d_optimizer = tf.keras.optimizers.Adam(0.0002, beta_1=0.0, beta_2=0.99),\n",
        "    g_optimizer = tf.keras.optimizers.Adam(0.0002, beta_1=0.0, beta_2=0.99))"
      ],
      "metadata": {
        "id": "quHXTURLb5dq"
      },
      "execution_count": 9,
      "outputs": []
    },
    {
      "cell_type": "markdown",
      "source": [
        "# Train with face images"
      ],
      "metadata": {
        "id": "aZIS4riIjdR8"
      }
    },
    {
      "cell_type": "code",
      "source": [
        "import tensorflow_datasets as tfds\n",
        "\n",
        "#def cropped_lfw(size=64, crop=32):\n",
        "#    dataset = tfds.load('lfw', split='train')\n",
        "#    dataset = dataset.map(lambda x: tf.cast(x['image'], tf.float32)/255.0 * 2. - 1.)\n",
        "#    dataset = dataset.map(lambda x: tf.image.resize(x[crop:-crop,crop:-crop], [size,size]))\n",
        "#    return dataset\n",
        "\n",
        "gan.fit(\n",
        "    coordgan.datasets.cropped_lfw(64).batch(16, drop_remainder=True),\n",
        "    epochs = 10,\n",
        "    callbacks = [coordgan.train.LossWeightScheduler()])"
      ],
      "metadata": {
        "id": "is54W1A1c0U0"
      },
      "execution_count": null,
      "outputs": []
    },
    {
      "cell_type": "markdown",
      "source": [
        "# Show generated images"
      ],
      "metadata": {
        "id": "CN3D_lmujtFZ"
      }
    },
    {
      "cell_type": "code",
      "source": [
        "def show_coord(coord):\n",
        "    coord = (coord + 1.) / 2.\n",
        "    coord = tf.pad(coord, [[0,0], [0,0], [0,0], [0,1]])\n",
        "    mediapy.show_images(coord)\n",
        "\n",
        "v_tex = gan.generate_texture_code(6)\n",
        "v_struct = gan.generate_structure_code(6)\n",
        "corr_map = gan.generate_correspondence_map(v_struct)\n",
        "\n",
        "images = gan.generate_images(v_tex, v_struct)\n",
        "\n",
        "show_coord(corr_map)\n",
        "mediapy.show_images(images * 0.5 + 0.5)"
      ],
      "metadata": {
        "id": "aklOWVYOemKx"
      },
      "execution_count": null,
      "outputs": []
    }
  ]
}